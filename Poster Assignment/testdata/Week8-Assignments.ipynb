{
 "cells": [
  {
   "cell_type": "markdown",
   "metadata": {},
   "source": [
    "# EPA1333 - Computer Engineering for Scientific Computing\n",
    "## Week 8 - Oct 27, 2016"
   ]
  },
  {
   "cell_type": "markdown",
   "metadata": {},
   "source": [
    "**Python for Data Analysis**\n",
    "\n",
    "*Wes McKinney*\n"
   ]
  },
  {
   "cell_type": "code",
   "execution_count": 2,
   "metadata": {
    "collapsed": false,
    "scrolled": true
   },
   "outputs": [],
   "source": [
    "%matplotlib inline\n",
    "import pandas as pd\n",
    "import numpy as np\n",
    "import matplotlib.pyplot as plt"
   ]
  },
  {
   "cell_type": "markdown",
   "metadata": {},
   "source": [
    "## Time Series and Grouping \n",
    "\n",
    "  "
   ]
  },
  {
   "cell_type": "markdown",
   "metadata": {},
   "source": [
    "## Alcohol consumption in the World\n",
    "\n",
    "The file ```drinks.csv``` contains some data on alcohol consumption in a number of countries in the world."
   ]
  },
  {
   "cell_type": "markdown",
   "metadata": {},
   "source": [
    "### Q1: Read the drinks.csv file into a dataframe, name the columns appropriately."
   ]
  },
  {
   "cell_type": "code",
   "execution_count": 143,
   "metadata": {
    "collapsed": false
   },
   "outputs": [
    {
     "data": {
      "text/html": [
       "<div>\n",
       "<table border=\"1\" class=\"dataframe\">\n",
       "  <thead>\n",
       "    <tr style=\"text-align: right;\">\n",
       "      <th></th>\n",
       "      <th>Country</th>\n",
       "      <th>Beer</th>\n",
       "      <th>Spirit</th>\n",
       "      <th>Wine</th>\n",
       "      <th>Total_alcohol</th>\n",
       "      <th>Continent</th>\n",
       "    </tr>\n",
       "  </thead>\n",
       "  <tbody>\n",
       "    <tr>\n",
       "      <th>0</th>\n",
       "      <td>Afghanistan</td>\n",
       "      <td>0</td>\n",
       "      <td>0</td>\n",
       "      <td>0</td>\n",
       "      <td>0.0</td>\n",
       "      <td>AS</td>\n",
       "    </tr>\n",
       "    <tr>\n",
       "      <th>1</th>\n",
       "      <td>Albania</td>\n",
       "      <td>89</td>\n",
       "      <td>132</td>\n",
       "      <td>54</td>\n",
       "      <td>4.9</td>\n",
       "      <td>EU</td>\n",
       "    </tr>\n",
       "    <tr>\n",
       "      <th>2</th>\n",
       "      <td>Algeria</td>\n",
       "      <td>25</td>\n",
       "      <td>0</td>\n",
       "      <td>14</td>\n",
       "      <td>0.7</td>\n",
       "      <td>AF</td>\n",
       "    </tr>\n",
       "    <tr>\n",
       "      <th>3</th>\n",
       "      <td>Andorra</td>\n",
       "      <td>245</td>\n",
       "      <td>138</td>\n",
       "      <td>312</td>\n",
       "      <td>12.4</td>\n",
       "      <td>EU</td>\n",
       "    </tr>\n",
       "    <tr>\n",
       "      <th>4</th>\n",
       "      <td>Angola</td>\n",
       "      <td>217</td>\n",
       "      <td>57</td>\n",
       "      <td>45</td>\n",
       "      <td>5.9</td>\n",
       "      <td>AF</td>\n",
       "    </tr>\n",
       "  </tbody>\n",
       "</table>\n",
       "</div>"
      ],
      "text/plain": [
       "       Country  Beer  Spirit  Wine  Total_alcohol Continent\n",
       "0  Afghanistan     0       0     0            0.0        AS\n",
       "1      Albania    89     132    54            4.9        EU\n",
       "2      Algeria    25       0    14            0.7        AF\n",
       "3      Andorra   245     138   312           12.4        EU\n",
       "4       Angola   217      57    45            5.9        AF"
      ]
     },
     "execution_count": 143,
     "metadata": {},
     "output_type": "execute_result"
    }
   ],
   "source": [
    "# Q1: your code here\n",
    "df1 = pd.read_csv(\"data/drinks.csv\", na_filter=False)\n",
    "df1.head()\n",
    "df1.columns = [\"Country\", \"Beer\",\"Spirit\", \"Wine\", \"Total_alcohol\", \"Continent\"]\n",
    "df1.head()"
   ]
  },
  {
   "cell_type": "markdown",
   "metadata": {},
   "source": [
    "### Q2:  How many continents are there? How many countries per continent?"
   ]
  },
  {
   "cell_type": "code",
   "execution_count": 144,
   "metadata": {
    "collapsed": false
   },
   "outputs": [
    {
     "name": "stdout",
     "output_type": "stream",
     "text": [
      "There are 6 continents in this dataframe\n",
      "AF has 53 countries\n",
      "AS has 44 countries\n",
      "EU has 45 countries\n",
      "NA has 23 countries\n",
      "OC has 16 countries\n",
      "SA has 12 countries\n"
     ]
    }
   ],
   "source": [
    "# Q2: your code here\n",
    "print(\"There are %.f continents in this dataframe\" %len(df1.Continent.unique()))\n",
    "\n",
    "for x,y in df1.groupby('Continent'):\n",
    "    print(\"%s has %.f countries\" % (x ,len(y)))"
   ]
  },
  {
   "cell_type": "markdown",
   "metadata": {},
   "source": [
    "### Q3: What is the average beer servings per continent? Which continent has on average the most? Which the least?"
   ]
  },
  {
   "cell_type": "code",
   "execution_count": 145,
   "metadata": {
    "collapsed": false
   },
   "outputs": [
    {
     "name": "stdout",
     "output_type": "stream",
     "text": [
      "The average beer servings per continent:\n",
      "                 Beer\n",
      "Continent            \n",
      "AF          61.471698\n",
      "AS          37.045455\n",
      "EU         193.777778\n",
      "NA         145.434783\n",
      "OC          89.687500\n",
      "SA         175.083333\n",
      "\n",
      "The continent with on average the least beer servings is AS with 37 servings\n",
      "The continent with on average the most beer servings is EU with 194 servings\n"
     ]
    }
   ],
   "source": [
    "# Q3: your code here\n",
    "print('The average beer servings per continent:')\n",
    "print(df1.groupby('Continent').mean()[['Beer']])\n",
    "indexa = df1.groupby(\"Continent\").mean()['Beer'].argmin()\n",
    "indexb = df1.groupby(\"Continent\").mean()['Beer'].argmax()\n",
    "print(\"\\nThe continent with on average the least beer servings is %s with %.f servings\" \n",
    "      %(indexa, df1.groupby(\"Continent\").mean()['Beer'].ix[indexa]))\n",
    "print(\"The continent with on average the most beer servings is %s with %.f servings\" \n",
    "      %(indexb, df1.groupby(\"Continent\").mean()['Beer'].ix[indexb]))"
   ]
  },
  {
   "cell_type": "markdown",
   "metadata": {},
   "source": [
    "### Q4: Which countries have the highest wine consumption per continent, and how much?\n"
   ]
  },
  {
   "cell_type": "code",
   "execution_count": 149,
   "metadata": {
    "collapsed": false
   },
   "outputs": [
    {
     "name": "stdout",
     "output_type": "stream",
     "text": [
      "WRONG!\n"
     ]
    },
    {
     "data": {
      "text/html": [
       "<div>\n",
       "<table border=\"1\" class=\"dataframe\">\n",
       "  <thead>\n",
       "    <tr style=\"text-align: right;\">\n",
       "      <th></th>\n",
       "      <th>Country</th>\n",
       "      <th>Wine</th>\n",
       "    </tr>\n",
       "    <tr>\n",
       "      <th>Continent</th>\n",
       "      <th></th>\n",
       "      <th></th>\n",
       "    </tr>\n",
       "  </thead>\n",
       "  <tbody>\n",
       "    <tr>\n",
       "      <th>AF</th>\n",
       "      <td>Zimbabwe</td>\n",
       "      <td>233</td>\n",
       "    </tr>\n",
       "    <tr>\n",
       "      <th>AS</th>\n",
       "      <td>Yemen</td>\n",
       "      <td>123</td>\n",
       "    </tr>\n",
       "    <tr>\n",
       "      <th>EU</th>\n",
       "      <td>United Kingdom</td>\n",
       "      <td>370</td>\n",
       "    </tr>\n",
       "    <tr>\n",
       "      <th>NA</th>\n",
       "      <td>USA</td>\n",
       "      <td>100</td>\n",
       "    </tr>\n",
       "    <tr>\n",
       "      <th>OC</th>\n",
       "      <td>Vanuatu</td>\n",
       "      <td>212</td>\n",
       "    </tr>\n",
       "    <tr>\n",
       "      <th>SA</th>\n",
       "      <td>Venezuela</td>\n",
       "      <td>221</td>\n",
       "    </tr>\n",
       "  </tbody>\n",
       "</table>\n",
       "</div>"
      ],
      "text/plain": [
       "                  Country  Wine\n",
       "Continent                      \n",
       "AF               Zimbabwe   233\n",
       "AS                  Yemen   123\n",
       "EU         United Kingdom   370\n",
       "NA                    USA   100\n",
       "OC                Vanuatu   212\n",
       "SA              Venezuela   221"
      ]
     },
     "execution_count": 149,
     "metadata": {},
     "output_type": "execute_result"
    }
   ],
   "source": [
    "# Q4: your code here\n",
    "maxwine = df1.groupby('Continent').max()[[\"Country\",\"Wine\"]]\n",
    "print(\"WRONG!\")\n",
    "maxwine\n"
   ]
  },
  {
   "cell_type": "markdown",
   "metadata": {},
   "source": [
    "### Q5: Create a bar chart to plot the maximum wine servings per continent. Put the name of the corresponding country on top of the bar as an extra label."
   ]
  },
  {
   "cell_type": "code",
   "execution_count": 147,
   "metadata": {
    "collapsed": false
   },
   "outputs": [
    {
     "data": {
      "image/png": "[encoded data removed]",
      "text/plain": [
       "<matplotlib.figure.Figure at 0x28dfe8487b8>"
      ]
     },
     "metadata": {},
     "output_type": "display_data"
    }
   ],
   "source": [
    "# Q5: your code here\n",
    "maxwine.plot(kind=\"bar\", fontsize = 15, title = \"Maximum wine servings per Continent\", ylim = (0,420))\n",
    "\n",
    "\n",
    "\n",
    "for (i, wine) in enumerate  (maxwine.Wine ):\n",
    "    plt.text(i -0.3, wine+10, maxwine.Country[i])\n",
    "\n"
   ]
  },
  {
   "cell_type": "markdown",
   "metadata": {},
   "source": [
    "### Q6: How many litres of alcohol is consumed in total per continent? Which country consumes the most per continent? Plot the total consumption per continent in a bar chart. Label each bar with the name of the country of that continent with the highest consumption and include that countries consumption.\n",
    "\n",
    "For example, if the UK has the highest consumption (10) of the EU (100), then draw a bar for the EU, length 100, and label it on top with \"UK (10)\"."
   ]
  },
  {
   "cell_type": "code",
   "execution_count": 151,
   "metadata": {
    "collapsed": true
   },
   "outputs": [
    {
     "name": "stdout",
     "output_type": "stream",
     "text": [
      "           Total_continent         Country  Total_country\n",
      "Continent                                                \n",
      "AF                   159.4        Zimbabwe            9.1\n",
      "AS                    95.5           Yemen           11.5\n",
      "EU                   387.8  United Kingdom           14.4\n",
      "NA                   137.9             USA           11.9\n",
      "OC                    54.1         Vanuatu           10.4\n",
      "SA                    75.7       Venezuela            8.3\n"
     ]
    },
    {
     "data": {
      "image/png": "[encoded data removed]",
      "text/plain": [
       "<matplotlib.figure.Figure at 0x28dfe8701d0>"
      ]
     },
     "metadata": {},
     "output_type": "display_data"
    }
   ],
   "source": [
    "# Q6: your code here\n",
    "continent_total = df1.groupby('Continent').sum()[['Total_alcohol']]\n",
    "max_total = df1.groupby('Continent').max()[[\"Country\",\"Total_alcohol\"]]\n",
    "\n",
    "df2 = continent_total.merge(max_total,how=\"outer\", left_index=True, right_index=True)\n",
    "df2.columns = ['Total_continent','Country', 'Total_country']\n",
    "print(df2)\n",
    "df2.Total_continent.plot(kind='bar',fontsize = 15, figsize = (10,8),title = \"Total Alcohol consumption per Continent\", ylim = (0,430))\n",
    "\n",
    "for i in range(len(df2)):\n",
    "    plt.text(i-0.3, df2.Total_continent[i]+10,\"%s %.1f\"%( df2.Country[i],df2.Total_country[i]))"
   ]
  },
  {
   "cell_type": "markdown",
   "metadata": {},
   "source": [
    "## Exercise: Weather\n",
    "\n",
    "Use the weatherdata in the csv file: ```weather_year```"
   ]
  },
  {
   "cell_type": "markdown",
   "metadata": {},
   "source": [
    "### Q7: Read the weather_year data into a dataframe.\n",
    " "
   ]
  },
  {
   "cell_type": "code",
   "execution_count": 114,
   "metadata": {
    "collapsed": false
   },
   "outputs": [],
   "source": [
    "# Q7: your code here\n",
    "df_weather = pd.read_csv('data/weather_year.csv')"
   ]
  },
  {
   "cell_type": "code",
   "execution_count": 115,
   "metadata": {
    "collapsed": false
   },
   "outputs": [],
   "source": [
    "\n",
    "df_weather2 = pd.DataFrame(df_weather[['EDT','Max TemperatureF','Mean TemperatureF','Min TemperatureF']])"
   ]
  },
  {
   "cell_type": "markdown",
   "metadata": {},
   "source": [
    "### Q8: Print the average max, min and mean temperature in Celsius per Season (Spring, Summer, Autumn, Winter) for the year 2012.\n"
   ]
  },
  {
   "cell_type": "code",
   "execution_count": 116,
   "metadata": {
    "collapsed": false
   },
   "outputs": [
    {
     "data": {
      "text/html": [
       "<div>\n",
       "<table border=\"1\" class=\"dataframe\">\n",
       "  <thead>\n",
       "    <tr style=\"text-align: right;\">\n",
       "      <th></th>\n",
       "      <th>date</th>\n",
       "      <th>MaxTempF</th>\n",
       "      <th>MeanTempF</th>\n",
       "      <th>MinTempF</th>\n",
       "    </tr>\n",
       "  </thead>\n",
       "  <tbody>\n",
       "    <tr>\n",
       "      <th>0</th>\n",
       "      <td>2012-3-10</td>\n",
       "      <td>56</td>\n",
       "      <td>40</td>\n",
       "      <td>24</td>\n",
       "    </tr>\n",
       "    <tr>\n",
       "      <th>1</th>\n",
       "      <td>2012-3-11</td>\n",
       "      <td>67</td>\n",
       "      <td>49</td>\n",
       "      <td>30</td>\n",
       "    </tr>\n",
       "    <tr>\n",
       "      <th>2</th>\n",
       "      <td>2012-3-12</td>\n",
       "      <td>71</td>\n",
       "      <td>62</td>\n",
       "      <td>53</td>\n",
       "    </tr>\n",
       "    <tr>\n",
       "      <th>3</th>\n",
       "      <td>2012-3-13</td>\n",
       "      <td>76</td>\n",
       "      <td>63</td>\n",
       "      <td>50</td>\n",
       "    </tr>\n",
       "    <tr>\n",
       "      <th>4</th>\n",
       "      <td>2012-3-14</td>\n",
       "      <td>80</td>\n",
       "      <td>62</td>\n",
       "      <td>44</td>\n",
       "    </tr>\n",
       "  </tbody>\n",
       "</table>\n",
       "</div>"
      ],
      "text/plain": [
       "        date  MaxTempF  MeanTempF  MinTempF\n",
       "0  2012-3-10        56         40        24\n",
       "1  2012-3-11        67         49        30\n",
       "2  2012-3-12        71         62        53\n",
       "3  2012-3-13        76         63        50\n",
       "4  2012-3-14        80         62        44"
      ]
     },
     "execution_count": 116,
     "metadata": {},
     "output_type": "execute_result"
    }
   ],
   "source": [
    "# Q8: your code here\n",
    "df_weather2.columns = ['date','MaxTempF','MeanTempF','MinTempF']\n",
    "df_weather2.head()"
   ]
  },
  {
   "cell_type": "code",
   "execution_count": 117,
   "metadata": {
    "collapsed": false
   },
   "outputs": [],
   "source": [
    "df_weather2.date = pd.to_datetime(df_weather2.date)"
   ]
  },
  {
   "cell_type": "code",
   "execution_count": 126,
   "metadata": {
    "collapsed": false,
    "scrolled": true
   },
   "outputs": [
    {
     "data": {
      "text/html": [
       "<div>\n",
       "<table border=\"1\" class=\"dataframe\">\n",
       "  <thead>\n",
       "    <tr style=\"text-align: right;\">\n",
       "      <th></th>\n",
       "      <th>MaxTempF</th>\n",
       "      <th>MeanTempF</th>\n",
       "      <th>MinTempF</th>\n",
       "    </tr>\n",
       "    <tr>\n",
       "      <th>date</th>\n",
       "      <th></th>\n",
       "      <th></th>\n",
       "      <th></th>\n",
       "    </tr>\n",
       "  </thead>\n",
       "  <tbody>\n",
       "    <tr>\n",
       "      <th>2012-03-10</th>\n",
       "      <td>56</td>\n",
       "      <td>40</td>\n",
       "      <td>24</td>\n",
       "    </tr>\n",
       "    <tr>\n",
       "      <th>2012-03-11</th>\n",
       "      <td>67</td>\n",
       "      <td>49</td>\n",
       "      <td>30</td>\n",
       "    </tr>\n",
       "    <tr>\n",
       "      <th>2012-03-12</th>\n",
       "      <td>71</td>\n",
       "      <td>62</td>\n",
       "      <td>53</td>\n",
       "    </tr>\n",
       "    <tr>\n",
       "      <th>2012-03-13</th>\n",
       "      <td>76</td>\n",
       "      <td>63</td>\n",
       "      <td>50</td>\n",
       "    </tr>\n",
       "    <tr>\n",
       "      <th>2012-03-14</th>\n",
       "      <td>80</td>\n",
       "      <td>62</td>\n",
       "      <td>44</td>\n",
       "    </tr>\n",
       "  </tbody>\n",
       "</table>\n",
       "</div>"
      ],
      "text/plain": [
       "            MaxTempF  MeanTempF  MinTempF\n",
       "date                                     \n",
       "2012-03-10        56         40        24\n",
       "2012-03-11        67         49        30\n",
       "2012-03-12        71         62        53\n",
       "2012-03-13        76         63        50\n",
       "2012-03-14        80         62        44"
      ]
     },
     "execution_count": 126,
     "metadata": {},
     "output_type": "execute_result"
    }
   ],
   "source": [
    "df_weather2 = df_weather2.set_index('date')\n",
    "df_weather2.head()"
   ]
  },
  {
   "cell_type": "code",
   "execution_count": 134,
   "metadata": {
    "collapsed": false
   },
   "outputs": [],
   "source": [
    "def FtoC (F):\n",
    "    C = (F-31)* (5/9)\n",
    "    return C\n",
    "\n",
    "df_weather3 = df_weather2.apply(FtoC)\n",
    "df_weather3.columns = ['MaxTempC', 'MeanTempC', 'MinTempC']"
   ]
  },
  {
   "cell_type": "code",
   "execution_count": 139,
   "metadata": {
    "collapsed": false
   },
   "outputs": [
    {
     "data": {
      "text/html": [
       "<div>\n",
       "<table border=\"1\" class=\"dataframe\">\n",
       "  <thead>\n",
       "    <tr style=\"text-align: right;\">\n",
       "      <th></th>\n",
       "      <th>MaxTempC</th>\n",
       "      <th>MeanTempC</th>\n",
       "      <th>MinTempC</th>\n",
       "    </tr>\n",
       "    <tr>\n",
       "      <th>date</th>\n",
       "      <th></th>\n",
       "      <th></th>\n",
       "      <th></th>\n",
       "    </tr>\n",
       "  </thead>\n",
       "  <tbody>\n",
       "    <tr>\n",
       "      <th>2012-03-01</th>\n",
       "      <td>23.975904</td>\n",
       "      <td>17.248996</td>\n",
       "      <td>10.240964</td>\n",
       "    </tr>\n",
       "    <tr>\n",
       "      <th>2012-06-01</th>\n",
       "      <td>32.475845</td>\n",
       "      <td>24.830918</td>\n",
       "      <td>16.896135</td>\n",
       "    </tr>\n",
       "    <tr>\n",
       "      <th>2012-09-01</th>\n",
       "      <td>18.034188</td>\n",
       "      <td>12.087912</td>\n",
       "      <td>5.940171</td>\n",
       "    </tr>\n",
       "    <tr>\n",
       "      <th>2012-12-01</th>\n",
       "      <td>6.691358</td>\n",
       "      <td>1.993827</td>\n",
       "      <td>-2.987654</td>\n",
       "    </tr>\n",
       "    <tr>\n",
       "      <th>2013-03-01</th>\n",
       "      <td>5.888889</td>\n",
       "      <td>2.333333</td>\n",
       "      <td>-1.222222</td>\n",
       "    </tr>\n",
       "  </tbody>\n",
       "</table>\n",
       "</div>"
      ],
      "text/plain": [
       "             MaxTempC  MeanTempC   MinTempC\n",
       "date                                       \n",
       "2012-03-01  23.975904  17.248996  10.240964\n",
       "2012-06-01  32.475845  24.830918  16.896135\n",
       "2012-09-01  18.034188  12.087912   5.940171\n",
       "2012-12-01   6.691358   1.993827  -2.987654\n",
       "2013-03-01   5.888889   2.333333  -1.222222"
      ]
     },
     "execution_count": 139,
     "metadata": {},
     "output_type": "execute_result"
    }
   ],
   "source": [
    "df_weather3.head()\n",
    "df_weather3.resample('QS-JUN').mean()"
   ]
  }
 ],
 "metadata": {
  "kernelspec": {
   "display_name": "Python [Root]",
   "language": "python",
   "name": "Python [Root]"
  },
  "language_info": {
   "codemirror_mode": {
    "name": "ipython",
    "version": 3
   },
   "file_extension": ".py",
   "mimetype": "text/x-python",
   "name": "python",
   "nbconvert_exporter": "python",
   "pygments_lexer": "ipython3",
   "version": "3.5.2"
  }
 },
 "nbformat": 4,
 "nbformat_minor": 0
}
