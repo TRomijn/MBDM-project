{
 "cells": [
  {
   "cell_type": "markdown",
   "metadata": {},
   "source": [
    "# EPA1333 - Computer Engineering for Scientific Computing\n",
    "## Week 7 - Oct 20, 2016"
   ]
  },
  {
   "cell_type": "markdown",
   "metadata": {},
   "source": [
    "**Python for Data Analysis**\n",
    "\n",
    "*Wes McKinney*\n"
   ]
  },
  {
   "cell_type": "code",
   "execution_count": 38,
   "metadata": {
    "scrolled": true
   },
   "outputs": [],
   "source": [
    "%matplotlib inline\n",
    "import pandas as pd\n",
    "import numpy as np\n",
    "import matplotlib.pyplot as plt\n",
    "import time"
   ]
  },
  {
   "cell_type": "markdown",
   "metadata": {},
   "source": [
    "## Links\n",
    "\n",
    "  * [Pandas Exercises](https://github.com/guipsamora/pandas_exercises)\n",
    "  * [100 pandas puzzles (well incomplete...)](https://github.com/ajcr/100-pandas-puzzles)\n",
    "  \n",
    "  * [Walkthrough exercises from PandasTutorial by Wes McKinney](https://github.com/lemonbalm/pandas-exercises)\n",
    "  Note: you need to convert these to Python3 first.\n",
    "  * [A few common Excel tasks in Pandas](http://pbpython.com/excel-pandas-comp.html)\n",
    "  \n",
    "  * Some more Tutorials:\n",
    "    * https://apawlik.github.io/2014-04-09-GARNET/lessons/garnet/pandas/tutorial.html\n",
    "    * http://efavdb.com/pandas-tips-and-tricks/\n"
   ]
  },
  {
   "cell_type": "markdown",
   "metadata": {},
   "source": [
    "# Pandas exercises"
   ]
  },
  {
   "cell_type": "markdown",
   "metadata": {},
   "source": [
    "## Exercise 3: MovieLens Ratings\n",
    "\n"
   ]
  },
  {
   "cell_type": "markdown",
   "metadata": {},
   "source": [
    "### Import data\n",
    "\n",
    "You can find MovieLens ratings [here](http://grouplens.org/datasets/movielens/).\n",
    "\n",
    "\n",
    "  1. Download the file [ml-1m.zip](http://files.grouplens.org/datasets/movielens/ml-1m.zip) with 1 million ratings by 6000 users on 4000 movies. \n",
    "  2. Unzip the file. This will give you 4 files (README and 3 data files).\n",
    "  3. Read the README and browse through the data files to understand the structure of the data.\n",
    "  "
   ]
  },
  {
   "cell_type": "markdown",
   "metadata": {},
   "source": [
    "#### Q1: Read the 3 dat files into three separate DataFrames. Name the dataframes and name the columns appropriately."
   ]
  },
  {
   "cell_type": "code",
   "execution_count": 47,
   "metadata": {},
   "outputs": [],
   "source": [
    "# Q1: your code here\n",
    "movies = pd.read_csv('ml-1m/movies.dat', delimiter=\"::\", engine='python',header=None,names=['MovieID','Title','Genre'])\n",
    "users = pd.read_csv('ml-1m/users.dat', delimiter=\"::\", engine='python',header=None,names=['UserID','Gender','Age','Occupation','Zip_code'])\n",
    "ratings = pd.read_csv('ml-1m/ratings.dat', delimiter=\"::\", engine='python',header=None,names=['UserID','MovieID','Rating','Timestamp'])"
   ]
  },
  {
   "cell_type": "code",
   "execution_count": 48,
   "metadata": {},
   "outputs": [
    {
     "data": {
      "text/html": [
       "<div>\n",
       "<table border=\"1\" class=\"dataframe\">\n",
       "  <thead>\n",
       "    <tr style=\"text-align: right;\">\n",
       "      <th></th>\n",
       "      <th>MovieID</th>\n",
       "      <th>Title</th>\n",
       "      <th>Genre</th>\n",
       "    </tr>\n",
       "  </thead>\n",
       "  <tbody>\n",
       "    <tr>\n",
       "      <th>0</th>\n",
       "      <td>1</td>\n",
       "      <td>Toy Story (1995)</td>\n",
       "      <td>Animation|Children's|Comedy</td>\n",
       "    </tr>\n",
       "  </tbody>\n",
       "</table>\n",
       "</div>"
      ],
      "text/plain": [
       "   MovieID             Title                        Genre\n",
       "0        1  Toy Story (1995)  Animation|Children's|Comedy"
      ]
     },
     "execution_count": 48,
     "metadata": {},
     "output_type": "execute_result"
    }
   ],
   "source": [
    "movies.head(1)"
   ]
  },
  {
   "cell_type": "code",
   "execution_count": 49,
   "metadata": {
    "scrolled": true
   },
   "outputs": [
    {
     "data": {
      "text/html": [
       "<div>\n",
       "<table border=\"1\" class=\"dataframe\">\n",
       "  <thead>\n",
       "    <tr style=\"text-align: right;\">\n",
       "      <th></th>\n",
       "      <th>UserID</th>\n",
       "      <th>Gender</th>\n",
       "      <th>Age</th>\n",
       "      <th>Occupation</th>\n",
       "      <th>Zip_code</th>\n",
       "    </tr>\n",
       "  </thead>\n",
       "  <tbody>\n",
       "    <tr>\n",
       "      <th>0</th>\n",
       "      <td>1</td>\n",
       "      <td>F</td>\n",
       "      <td>1</td>\n",
       "      <td>10</td>\n",
       "      <td>48067</td>\n",
       "    </tr>\n",
       "  </tbody>\n",
       "</table>\n",
       "</div>"
      ],
      "text/plain": [
       "   UserID Gender  Age  Occupation Zip_code\n",
       "0       1      F    1          10    48067"
      ]
     },
     "execution_count": 49,
     "metadata": {},
     "output_type": "execute_result"
    }
   ],
   "source": [
    "users.head(1)"
   ]
  },
  {
   "cell_type": "code",
   "execution_count": 50,
   "metadata": {},
   "outputs": [
    {
     "data": {
      "text/html": [
       "<div>\n",
       "<table border=\"1\" class=\"dataframe\">\n",
       "  <thead>\n",
       "    <tr style=\"text-align: right;\">\n",
       "      <th></th>\n",
       "      <th>UserID</th>\n",
       "      <th>MovieID</th>\n",
       "      <th>Rating</th>\n",
       "      <th>Timestamp</th>\n",
       "    </tr>\n",
       "  </thead>\n",
       "  <tbody>\n",
       "    <tr>\n",
       "      <th>0</th>\n",
       "      <td>1</td>\n",
       "      <td>1193</td>\n",
       "      <td>5</td>\n",
       "      <td>978300760</td>\n",
       "    </tr>\n",
       "  </tbody>\n",
       "</table>\n",
       "</div>"
      ],
      "text/plain": [
       "   UserID  MovieID  Rating  Timestamp\n",
       "0       1     1193       5  978300760"
      ]
     },
     "execution_count": 50,
     "metadata": {},
     "output_type": "execute_result"
    }
   ],
   "source": [
    "ratings.head(1)"
   ]
  },
  {
   "cell_type": "markdown",
   "metadata": {},
   "source": [
    "#### Q2:  How many users are there? And how many are men and how many are women?"
   ]
  },
  {
   "cell_type": "code",
   "execution_count": 62,
   "metadata": {},
   "outputs": [
    {
     "name": "stdout",
     "output_type": "stream",
     "text": [
      "there are 6040 users in the database\n",
      "there are 1709 female users in the database \n",
      "there are 4331 male users in the database \n"
     ]
    }
   ],
   "source": [
    "# Q2: your code here\n",
    "print('there are %.f users in the database' %len(users.UserID.unique()))\n",
    "print('there are %.f female users in the database ' %len(users.UserID [users.Gender == 'F']))\n",
    "print('there are %.f male users in the database ' %len(users.UserID [users.Gender == 'M']))\n"
   ]
  },
  {
   "cell_type": "markdown",
   "metadata": {},
   "source": [
    "#### Q3: How many ratings are there? How many were made by man and how many by women? Express it in percentages."
   ]
  },
  {
   "cell_type": "code",
   "execution_count": 126,
   "metadata": {},
   "outputs": [
    {
     "name": "stdout",
     "output_type": "stream",
     "text": [
      "There are in total 1000209 ratings in this database\n",
      "in total 246440 ratings are made by female\n",
      "in total 753769 ratings are made by male\n"
     ]
    }
   ],
   "source": [
    "# Q3: your code here\n",
    "print('There are in total %.f ratings in this database' %len(ratings))\n",
    "userratings = ratings.merge(users, left_on='UserID', right_on='UserID')\n",
    "print('in total %.f ratings are made by female' %len(userratings [userratings.Gender == 'F']))\n",
    "print('in total %.f ratings are made by male' %len(userratings [userratings.Gender == 'M']))\n"
   ]
  },
  {
   "cell_type": "markdown",
   "metadata": {},
   "source": [
    "#### Q4: What is the average rating given? What is the average rating given by men and by women separately? Does one gender rate higher on average?\n"
   ]
  },
  {
   "cell_type": "code",
   "execution_count": 99,
   "metadata": {},
   "outputs": [
    {
     "name": "stdout",
     "output_type": "stream",
     "text": [
      "The average rating given is 3.581564453029317\n",
      "The average rating given by male is 3.5688785290984373\n",
      "The average rating given by female is 3.6203660120110372\n"
     ]
    }
   ],
   "source": [
    "# Q4: your code here\n",
    "print('The average rating given is',userratings.Rating.mean())\n",
    "print('The average rating given by male is',userratings [userratings.Gender == 'M'].Rating.mean())\n",
    "print('The average rating given by female is',userratings [userratings.Gender == 'F'].Rating.mean())"
   ]
  },
  {
   "cell_type": "markdown",
   "metadata": {},
   "source": [
    "#### Q5: Plot histograms of the ratings given by men and women in 2 plots, side-by-side."
   ]
  },
  {
   "cell_type": "code",
   "execution_count": 146,
   "metadata": {},
   "outputs": [
    {
     "data": {
      "image/png": "[encoded data removed]",
      "text/plain": [
       "<matplotlib.figure.Figure at 0x24126112160>"
      ]
     },
     "metadata": {},
     "output_type": "display_data"
    }
   ],
   "source": [
    "# Q5: your code here\n",
    "femaleratings = userratings [userratings.Gender == 'F']\n",
    "maleratings = userratings [userratings.Gender == 'M']\n",
    "#average rating per male user\n",
    "#maleratings.groupby('UserID').Rating.mean()\n",
    "plt.subplot(1,2,1)\n",
    "plt.hist(maleratings.Rating, align='mid')\n",
    "plt.title('Male Ratings')\n",
    "plt.xlabel('Rating')\n",
    "plt.ylabel('Frequency')\n",
    "\n",
    "plt.subplot(1,2,2)\n",
    "plt.hist(femaleratings.Rating, align='mid')\n",
    "plt.title('Female Ratings')\n",
    "plt.xlabel('Rating')\n",
    "plt.ylabel('Frequency')\n",
    "\n",
    "\n",
    "plt.tight_layout()\n",
    "plt.subplots_adjust(left=0, right=1, top=0.8, bottom=0.0, hspace=0.0, wspace=0.5)"
   ]
  },
  {
   "cell_type": "markdown",
   "metadata": {},
   "source": [
    "## DateTime\n",
    "\n",
    "Pandas support dates with its own data type.\n",
    "\n",
    "```python\n",
    "pandas.datetime\n",
    "```\n",
    "   \n",
    "   or\n",
    "   \n",
    "```python\n",
    "pandas.Timestamp\n",
    "```\n",
    "   \n",
    "   \n",
    "Both represents year, month, day, hours, seconds, milliseconds and are more or less interchangeable.\n",
    "\n",
    "You can create such a datetime/Timstamp object from a timestamp string using:\n",
    "\n",
    "    date = pd.datetime.from_timestamp( timestamp )\n",
    "    \n",
    "A more generic timestamp creator is:\n",
    "\n",
    "    date = pd.to_datetime( timestamp or (series of timestamps), unit=\"xxx\" ) \n",
    "    \n",
    "This function will recognize different notations of time (not just timestamps). However,\n",
    "you may need to indicate what type it is using the \"unit\" keyword.\n"
   ]
  },
  {
   "cell_type": "markdown",
   "metadata": {},
   "source": [
    "#### Q6: Add an extra column to the ratings table containing a 'real date' (year, month, day, hours, seconds) instead of a string timestamp. Try it with ```pd.datetime.fromtimestamp``` as well as ```pd.to_datetime```. Do you notice any difference?\n",
    "\n",
    "*Hint*: If you want to apply a function to an entire column, you can use the function ```apply```:\n",
    "\n",
    "For example:\n",
    "\n",
    "    dataframe['ColumnName'].apply( np.sqrt )  # NOTE np.sqrt, not np.sqrt(). \n",
    "                                              # We pass the function itself, not calling it!\n",
    "\n",
    "will apply the function ```np.sqrt``` to each value in the column \"ColumnName\" of the dataframe and return the result. Note: ```np.sqrt``` is special in that it can also be called as:\n",
    "    \n",
    "    np.sqrt( dataframe(['ColumnName'] )\n",
    "    \n"
   ]
  },
  {
   "cell_type": "code",
   "execution_count": 160,
   "metadata": {},
   "outputs": [],
   "source": [
    "# Q6: your code here\n",
    "ratings.Realtime = ratings.Timestamp.apply(pd.datetime.fromtimestamp)"
   ]
  },
  {
   "cell_type": "code",
   "execution_count": 163,
   "metadata": {},
   "outputs": [],
   "source": [
    "ratings ['Realtime'] = ratings.Realtime"
   ]
  },
  {
   "cell_type": "code",
   "execution_count": 171,
   "metadata": {
    "collapsed": true
   },
   "outputs": [
    {
     "data": {
      "text/plain": [
       "0         2000-12-31 22:12:40\n",
       "1         2000-12-31 22:35:09\n",
       "2         2000-12-31 22:32:48\n",
       "3         2000-12-31 22:04:35\n",
       "4         2001-01-06 23:38:11\n",
       "5         2000-12-31 22:37:48\n",
       "6         2000-12-31 22:33:59\n",
       "7         2000-12-31 22:11:59\n",
       "8         2000-12-31 22:37:48\n",
       "9         2000-12-31 22:22:48\n",
       "10        2001-01-06 23:37:48\n",
       "11        2000-12-31 22:29:12\n",
       "12        2000-12-31 22:38:01\n",
       "13        2000-12-31 22:35:24\n",
       "14        2000-12-31 22:29:13\n",
       "15        2000-12-31 22:36:28\n",
       "16        2001-01-06 23:37:48\n",
       "17        2000-12-31 22:29:37\n",
       "18        2000-12-31 22:28:33\n",
       "19        2000-12-31 22:33:59\n",
       "20        2000-12-31 22:36:45\n",
       "21        2000-12-31 22:12:40\n",
       "22        2000-12-31 22:00:55\n",
       "23        2001-01-06 23:36:35\n",
       "24        2000-12-31 22:01:43\n",
       "25        2001-01-06 23:39:11\n",
       "26        2000-12-31 22:32:33\n",
       "27        2000-12-31 22:00:55\n",
       "28        2001-01-06 23:35:39\n",
       "29        2001-01-06 23:37:48\n",
       "                  ...        \n",
       "1000179   2000-04-25 23:16:24\n",
       "1000180   2000-04-26 02:17:35\n",
       "1000181   2000-04-25 23:22:52\n",
       "1000182   2000-05-07 16:41:18\n",
       "1000183   2000-06-14 08:34:14\n",
       "1000184   2000-04-26 02:19:29\n",
       "1000185   2000-04-26 02:33:58\n",
       "1000186   2000-04-25 23:10:19\n",
       "1000187   2000-04-26 02:31:34\n",
       "1000188   2000-07-28 23:58:54\n",
       "1000189   2000-05-07 16:26:35\n",
       "1000190   2000-04-26 02:28:33\n",
       "1000191   2000-07-28 23:59:42\n",
       "1000192   2000-04-25 23:06:17\n",
       "1000193   2000-04-26 02:14:48\n",
       "1000194   2000-07-28 23:59:59\n",
       "1000195   2000-04-26 02:20:48\n",
       "1000196   2000-04-25 23:19:06\n",
       "1000197   2000-04-26 02:14:48\n",
       "1000198   2000-04-26 02:32:54\n",
       "1000199   2000-04-26 02:30:07\n",
       "1000200   2000-04-25 23:15:19\n",
       "1000201   2000-05-07 16:35:22\n",
       "1000202   2000-04-25 23:23:16\n",
       "1000203   2000-04-26 02:18:38\n",
       "1000204   2000-04-26 02:35:41\n",
       "1000205   2000-04-25 23:21:27\n",
       "1000206   2000-04-25 23:19:06\n",
       "1000207   2000-04-26 02:20:48\n",
       "1000208   2000-04-26 02:19:29\n",
       "Name: Timestamp, dtype: datetime64[ns]"
      ]
     },
     "execution_count": 171,
     "metadata": {},
     "output_type": "execute_result"
    }
   ],
   "source": [
    "pd.to_datetime(ratings.Timestamp,unit='s')"
   ]
  },
  {
   "cell_type": "markdown",
   "metadata": {},
   "source": [
    "#### Q7: Give an overview of the ratings given per year.\n",
    "\n",
    "*Hint*: Datetime and Timestamp data types allow access to their individual members (year, month, day, hour, minute, seconds.\n",
    "\n",
    "For example:\n",
    "  \n",
    "    ts = pd.Timestamp(\"2016-10-16\")\n",
    "    ts.year -> 2016\n",
    "    ts.day -> 16\n",
    "    \n",
    "In a dataframe you can access these datetime/Timestamp methods by using\n",
    "\n",
    "    dataframe['Columnname'].dt.year\n",
    "    \n",
    " "
   ]
  },
  {
   "cell_type": "code",
   "execution_count": 249,
   "metadata": {
    "scrolled": true
   },
   "outputs": [
    {
     "data": {
      "text/plain": [
       "Realtime\n",
       "2000    904721\n",
       "2001     68094\n",
       "2002     24046\n",
       "2003      3348\n",
       "dtype: int64"
      ]
     },
     "execution_count": 249,
     "metadata": {},
     "output_type": "execute_result"
    }
   ],
   "source": [
    "ratings.groupby(ratings['Realtime'].dt.year).size()"
   ]
  },
  {
   "cell_type": "code",
   "execution_count": 203,
   "metadata": {},
   "outputs": [],
   "source": [
    "# Q7: your code here\n",
    "test = ratings[['Rating','Realtime']]"
   ]
  },
  {
   "cell_type": "code",
   "execution_count": 211,
   "metadata": {},
   "outputs": [],
   "source": [
    "test = test.set_index('Realtime')"
   ]
  },
  {
   "cell_type": "code",
   "execution_count": 250,
   "metadata": {},
   "outputs": [
    {
     "data": {
      "text/plain": [
       "Realtime\n",
       "2000-01-01    904721\n",
       "2001-01-01     68094\n",
       "2002-01-01     24046\n",
       "2003-01-01      3348\n",
       "Freq: AS-JAN, dtype: int64"
      ]
     },
     "execution_count": 250,
     "metadata": {},
     "output_type": "execute_result"
    }
   ],
   "source": [
    "test.resample('AS').size()"
   ]
  },
  {
   "cell_type": "markdown",
   "metadata": {},
   "source": [
    "#### Q8: How many genres are there? (Count them from the tables, verify with what you find in the README)"
   ]
  },
  {
   "cell_type": "code",
   "execution_count": 285,
   "metadata": {},
   "outputs": [
    {
     "name": "stdout",
     "output_type": "stream",
     "text": [
      "The dataset has 18 different genres: {'Horror', 'Thriller', 'Fantasy', 'Action', 'Romance', 'Film-Noir', 'Comedy', \"Children's\", 'Drama', 'War', 'Sci-Fi', 'Crime', 'Adventure', 'Documentary', 'Animation', 'Musical', 'Western', 'Mystery'}\n"
     ]
    }
   ],
   "source": [
    "#Q8: your code here\n",
    "genre_combis = movies.Genre.unique()\n",
    "genres = set()\n",
    "for x in genre_combis:\n",
    "    y = x.split(sep='|')\n",
    "    for z in y:\n",
    "        genres.add(z)\n",
    "print('The dataset has %.f different genres: %s' %(len(genres), str(genres)))\n"
   ]
  },
  {
   "cell_type": "markdown",
   "metadata": {},
   "source": [
    "#### Q9: Count how many movies there are in each genre category."
   ]
  },
  {
   "cell_type": "code",
   "execution_count": 341,
   "metadata": {},
   "outputs": [],
   "source": [
    "# Q9: your code here\n",
    "#movies['Horror'] = \n",
    "for genre in genres:\n",
    "    movies[genre] = [genre in movie_genres.split(\"|\") for movie_genres in movies.Genre] "
   ]
  },
  {
   "cell_type": "code",
   "execution_count": 343,
   "metadata": {},
   "outputs": [
    {
     "data": {
      "text/html": [
       "<div>\n",
       "<table border=\"1\" class=\"dataframe\">\n",
       "  <thead>\n",
       "    <tr style=\"text-align: right;\">\n",
       "      <th></th>\n",
       "      <th>MovieID</th>\n",
       "      <th>Title</th>\n",
       "      <th>Genre</th>\n",
       "      <th>Horror</th>\n",
       "      <th>Genrelist</th>\n",
       "      <th>Thriller</th>\n",
       "      <th>Fantasy</th>\n",
       "      <th>Action</th>\n",
       "      <th>Romance</th>\n",
       "      <th>Film-Noir</th>\n",
       "      <th>...</th>\n",
       "      <th>Drama</th>\n",
       "      <th>War</th>\n",
       "      <th>Sci-Fi</th>\n",
       "      <th>Crime</th>\n",
       "      <th>Adventure</th>\n",
       "      <th>Documentary</th>\n",
       "      <th>Animation</th>\n",
       "      <th>Musical</th>\n",
       "      <th>Western</th>\n",
       "      <th>Mystery</th>\n",
       "    </tr>\n",
       "  </thead>\n",
       "  <tbody>\n",
       "    <tr>\n",
       "      <th>0</th>\n",
       "      <td>1</td>\n",
       "      <td>Toy Story (1995)</td>\n",
       "      <td>Animation|Children's|Comedy</td>\n",
       "      <td>False</td>\n",
       "      <td>[Animation, Children's, Comedy]</td>\n",
       "      <td>False</td>\n",
       "      <td>False</td>\n",
       "      <td>False</td>\n",
       "      <td>False</td>\n",
       "      <td>False</td>\n",
       "      <td>...</td>\n",
       "      <td>False</td>\n",
       "      <td>False</td>\n",
       "      <td>False</td>\n",
       "      <td>False</td>\n",
       "      <td>False</td>\n",
       "      <td>False</td>\n",
       "      <td>True</td>\n",
       "      <td>False</td>\n",
       "      <td>False</td>\n",
       "      <td>False</td>\n",
       "    </tr>\n",
       "    <tr>\n",
       "      <th>1</th>\n",
       "      <td>2</td>\n",
       "      <td>Jumanji (1995)</td>\n",
       "      <td>Adventure|Children's|Fantasy</td>\n",
       "      <td>False</td>\n",
       "      <td>[Adventure, Children's, Fantasy]</td>\n",
       "      <td>False</td>\n",
       "      <td>True</td>\n",
       "      <td>False</td>\n",
       "      <td>False</td>\n",
       "      <td>False</td>\n",
       "      <td>...</td>\n",
       "      <td>False</td>\n",
       "      <td>False</td>\n",
       "      <td>False</td>\n",
       "      <td>False</td>\n",
       "      <td>True</td>\n",
       "      <td>False</td>\n",
       "      <td>False</td>\n",
       "      <td>False</td>\n",
       "      <td>False</td>\n",
       "      <td>False</td>\n",
       "    </tr>\n",
       "    <tr>\n",
       "      <th>2</th>\n",
       "      <td>3</td>\n",
       "      <td>Grumpier Old Men (1995)</td>\n",
       "      <td>Comedy|Romance</td>\n",
       "      <td>False</td>\n",
       "      <td>[Comedy, Romance]</td>\n",
       "      <td>False</td>\n",
       "      <td>False</td>\n",
       "      <td>False</td>\n",
       "      <td>True</td>\n",
       "      <td>False</td>\n",
       "      <td>...</td>\n",
       "      <td>False</td>\n",
       "      <td>False</td>\n",
       "      <td>False</td>\n",
       "      <td>False</td>\n",
       "      <td>False</td>\n",
       "      <td>False</td>\n",
       "      <td>False</td>\n",
       "      <td>False</td>\n",
       "      <td>False</td>\n",
       "      <td>False</td>\n",
       "    </tr>\n",
       "    <tr>\n",
       "      <th>3</th>\n",
       "      <td>4</td>\n",
       "      <td>Waiting to Exhale (1995)</td>\n",
       "      <td>Comedy|Drama</td>\n",
       "      <td>False</td>\n",
       "      <td>[Comedy, Drama]</td>\n",
       "      <td>False</td>\n",
       "      <td>False</td>\n",
       "      <td>False</td>\n",
       "      <td>False</td>\n",
       "      <td>False</td>\n",
       "      <td>...</td>\n",
       "      <td>True</td>\n",
       "      <td>False</td>\n",
       "      <td>False</td>\n",
       "      <td>False</td>\n",
       "      <td>False</td>\n",
       "      <td>False</td>\n",
       "      <td>False</td>\n",
       "      <td>False</td>\n",
       "      <td>False</td>\n",
       "      <td>False</td>\n",
       "    </tr>\n",
       "    <tr>\n",
       "      <th>4</th>\n",
       "      <td>5</td>\n",
       "      <td>Father of the Bride Part II (1995)</td>\n",
       "      <td>Comedy</td>\n",
       "      <td>False</td>\n",
       "      <td>[Comedy]</td>\n",
       "      <td>False</td>\n",
       "      <td>False</td>\n",
       "      <td>False</td>\n",
       "      <td>False</td>\n",
       "      <td>False</td>\n",
       "      <td>...</td>\n",
       "      <td>False</td>\n",
       "      <td>False</td>\n",
       "      <td>False</td>\n",
       "      <td>False</td>\n",
       "      <td>False</td>\n",
       "      <td>False</td>\n",
       "      <td>False</td>\n",
       "      <td>False</td>\n",
       "      <td>False</td>\n",
       "      <td>False</td>\n",
       "    </tr>\n",
       "  </tbody>\n",
       "</table>\n",
       "<p>5 rows × 22 columns</p>\n",
       "</div>"
      ],
      "text/plain": [
       "   MovieID                               Title                         Genre  \\\n",
       "0        1                    Toy Story (1995)   Animation|Children's|Comedy   \n",
       "1        2                      Jumanji (1995)  Adventure|Children's|Fantasy   \n",
       "2        3             Grumpier Old Men (1995)                Comedy|Romance   \n",
       "3        4            Waiting to Exhale (1995)                  Comedy|Drama   \n",
       "4        5  Father of the Bride Part II (1995)                        Comedy   \n",
       "\n",
       "  Horror                         Genrelist Thriller Fantasy Action Romance  \\\n",
       "0  False   [Animation, Children's, Comedy]    False   False  False   False   \n",
       "1  False  [Adventure, Children's, Fantasy]    False    True  False   False   \n",
       "2  False                 [Comedy, Romance]    False   False  False    True   \n",
       "3  False                   [Comedy, Drama]    False   False  False   False   \n",
       "4  False                          [Comedy]    False   False  False   False   \n",
       "\n",
       "  Film-Noir   ...    Drama    War Sci-Fi  Crime Adventure Documentary  \\\n",
       "0     False   ...    False  False  False  False     False       False   \n",
       "1     False   ...    False  False  False  False      True       False   \n",
       "2     False   ...    False  False  False  False     False       False   \n",
       "3     False   ...     True  False  False  False     False       False   \n",
       "4     False   ...    False  False  False  False     False       False   \n",
       "\n",
       "  Animation Musical Western Mystery  \n",
       "0      True   False   False   False  \n",
       "1     False   False   False   False  \n",
       "2     False   False   False   False  \n",
       "3     False   False   False   False  \n",
       "4     False   False   False   False  \n",
       "\n",
       "[5 rows x 22 columns]"
      ]
     },
     "execution_count": 343,
     "metadata": {},
     "output_type": "execute_result"
    }
   ],
   "source": [
    "movies.head()"
   ]
  },
  {
   "cell_type": "code",
   "execution_count": 350,
   "metadata": {},
   "outputs": [
    {
     "data": {
      "text/plain": [
       "Thriller        492\n",
       "Fantasy          68\n",
       "Action          503\n",
       "Romance         471\n",
       "Film-Noir        44\n",
       "Comedy         1200\n",
       "Children's      251\n",
       "Drama          1603\n",
       "War             143\n",
       "Sci-Fi          276\n",
       "Crime           211\n",
       "Adventure       283\n",
       "Documentary     127\n",
       "Animation       105\n",
       "Musical         114\n",
       "Western          68\n",
       "Mystery         106\n",
       "dtype: int64"
      ]
     },
     "execution_count": 350,
     "metadata": {},
     "output_type": "execute_result"
    }
   ],
   "source": [
    "movies.iloc[:,5:].sum()"
   ]
  },
  {
   "cell_type": "code",
   "execution_count": 2,
   "metadata": {},
   "outputs": [],
   "source": [
    "# Now use sum() to count the values per genre\n"
   ]
  },
  {
   "cell_type": "markdown",
   "metadata": {
    "collapsed": true
   },
   "source": [
    "#### Q10: How many ratings did the movie 'Casino (1995)' receive? What was the average rating for this movie?"
   ]
  },
  {
   "cell_type": "code",
   "execution_count": 357,
   "metadata": {},
   "outputs": [],
   "source": [
    "# Q10: your code here\n",
    "casinoID = int(movies [movies.Title == 'Casino (1995)']['MovieID'])"
   ]
  },
  {
   "cell_type": "code",
   "execution_count": 368,
   "metadata": {},
   "outputs": [
    {
     "name": "stdout",
     "output_type": "stream",
     "text": [
      "682\n",
      "3.7932551319648096\n"
     ]
    }
   ],
   "source": [
    "print(ratings [ratings.MovieID == casinoID ].shape[0])\n",
    "\n",
    "print(ratings [ratings.MovieID == casinoID ].Rating.mean())\n",
    "\n"
   ]
  },
  {
   "cell_type": "markdown",
   "metadata": {
    "collapsed": true
   },
   "source": [
    "#### Q11: What was the average rating of men for this movie? What was the average of women for this movie?"
   ]
  },
  {
   "cell_type": "code",
   "execution_count": 371,
   "metadata": {},
   "outputs": [
    {
     "name": "stdout",
     "output_type": "stream",
     "text": [
      "133\n",
      "3.6090225563909772\n",
      "549\n",
      "3.8378870673952643\n"
     ]
    }
   ],
   "source": [
    "# Q11: your code here\n",
    "print(femaleratings [femaleratings.MovieID == casinoID ].shape[0])\n",
    "\n",
    "print(femaleratings [femaleratings.MovieID == casinoID ].Rating.mean())\n",
    "\n",
    "print(maleratings [maleratings.MovieID == casinoID ].shape[0])\n",
    "\n",
    "print(maleratings [maleratings.MovieID == casinoID ].Rating.mean())\n"
   ]
  }
 ],
 "metadata": {
  "kernelspec": {
   "display_name": "Python 3",
   "language": "python",
   "name": "python3"
  },
  "language_info": {
   "codemirror_mode": {
    "name": "ipython",
    "version": 3
   },
   "file_extension": ".py",
   "mimetype": "text/x-python",
   "name": "python",
   "nbconvert_exporter": "python",
   "pygments_lexer": "ipython3",
   "version": "3.6.0"
  }
 },
 "nbformat": 4,
 "nbformat_minor": 1
}
