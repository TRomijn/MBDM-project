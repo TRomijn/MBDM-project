{
 "cells": [
  {
   "cell_type": "code",
   "execution_count": 1,
   "metadata": {
    "collapsed": true
   },
   "outputs": [],
   "source": [
    "import pandas as pd\n",
    "import matplotlib.pyplot as plt\n",
    "import numpy as np\n",
    "import ema_workbench as ema"
   ]
  },
  {
   "cell_type": "code",
   "execution_count": 2,
   "metadata": {
    "collapsed": true
   },
   "outputs": [],
   "source": [
    "df = pd.read_csv(\"Prepared Data/500_experiments_results.csv\")"
   ]
  },
  {
   "cell_type": "code",
   "execution_count": 5,
   "metadata": {
    "collapsed": true
   },
   "outputs": [
    {
     "data": {
      "text/html": [
       "<div>\n",
       "<table border=\"1\" class=\"dataframe\">\n",
       "  <thead>\n",
       "    <tr style=\"text-align: right;\">\n",
       "      <th></th>\n",
       "      <th>Flood damage (Milj. Euro)</th>\n",
       "      <th>Number of casualties</th>\n",
       "      <th>Costs</th>\n",
       "    </tr>\n",
       "  </thead>\n",
       "  <tbody>\n",
       "    <tr>\n",
       "      <th>0</th>\n",
       "      <td>20392</td>\n",
       "      <td>821.924880</td>\n",
       "      <td>70.00</td>\n",
       "    </tr>\n",
       "    <tr>\n",
       "      <th>1</th>\n",
       "      <td>10182</td>\n",
       "      <td>370.869170</td>\n",
       "      <td>70.00</td>\n",
       "    </tr>\n",
       "    <tr>\n",
       "      <th>2</th>\n",
       "      <td>19627</td>\n",
       "      <td>512.941700</td>\n",
       "      <td>70.00</td>\n",
       "    </tr>\n",
       "    <tr>\n",
       "      <th>3</th>\n",
       "      <td>8806</td>\n",
       "      <td>149.819890</td>\n",
       "      <td>70.00</td>\n",
       "    </tr>\n",
       "    <tr>\n",
       "      <th>4</th>\n",
       "      <td>43822</td>\n",
       "      <td>1165.277450</td>\n",
       "      <td>70.00</td>\n",
       "    </tr>\n",
       "    <tr>\n",
       "      <th>5</th>\n",
       "      <td>33917</td>\n",
       "      <td>1258.973730</td>\n",
       "      <td>70.00</td>\n",
       "    </tr>\n",
       "    <tr>\n",
       "      <th>6</th>\n",
       "      <td>21155</td>\n",
       "      <td>674.091100</td>\n",
       "      <td>70.00</td>\n",
       "    </tr>\n",
       "    <tr>\n",
       "      <th>7</th>\n",
       "      <td>44453</td>\n",
       "      <td>805.183380</td>\n",
       "      <td>70.00</td>\n",
       "    </tr>\n",
       "    <tr>\n",
       "      <th>8</th>\n",
       "      <td>35930</td>\n",
       "      <td>1475.090400</td>\n",
       "      <td>70.00</td>\n",
       "    </tr>\n",
       "    <tr>\n",
       "      <th>9</th>\n",
       "      <td>18069</td>\n",
       "      <td>335.754400</td>\n",
       "      <td>70.00</td>\n",
       "    </tr>\n",
       "    <tr>\n",
       "      <th>10</th>\n",
       "      <td>10062</td>\n",
       "      <td>410.414200</td>\n",
       "      <td>70.00</td>\n",
       "    </tr>\n",
       "    <tr>\n",
       "      <th>11</th>\n",
       "      <td>19950</td>\n",
       "      <td>897.089800</td>\n",
       "      <td>70.00</td>\n",
       "    </tr>\n",
       "    <tr>\n",
       "      <th>12</th>\n",
       "      <td>30196</td>\n",
       "      <td>599.224910</td>\n",
       "      <td>70.00</td>\n",
       "    </tr>\n",
       "    <tr>\n",
       "      <th>13</th>\n",
       "      <td>12223</td>\n",
       "      <td>520.283000</td>\n",
       "      <td>70.00</td>\n",
       "    </tr>\n",
       "    <tr>\n",
       "      <th>14</th>\n",
       "      <td>28467</td>\n",
       "      <td>901.417000</td>\n",
       "      <td>70.00</td>\n",
       "    </tr>\n",
       "    <tr>\n",
       "      <th>15</th>\n",
       "      <td>14422</td>\n",
       "      <td>524.740360</td>\n",
       "      <td>70.00</td>\n",
       "    </tr>\n",
       "    <tr>\n",
       "      <th>16</th>\n",
       "      <td>28313</td>\n",
       "      <td>634.896450</td>\n",
       "      <td>70.00</td>\n",
       "    </tr>\n",
       "    <tr>\n",
       "      <th>17</th>\n",
       "      <td>31442</td>\n",
       "      <td>663.686940</td>\n",
       "      <td>70.00</td>\n",
       "    </tr>\n",
       "    <tr>\n",
       "      <th>18</th>\n",
       "      <td>14114</td>\n",
       "      <td>568.385400</td>\n",
       "      <td>70.00</td>\n",
       "    </tr>\n",
       "    <tr>\n",
       "      <th>19</th>\n",
       "      <td>21207</td>\n",
       "      <td>828.339270</td>\n",
       "      <td>70.00</td>\n",
       "    </tr>\n",
       "    <tr>\n",
       "      <th>20</th>\n",
       "      <td>30118</td>\n",
       "      <td>843.233550</td>\n",
       "      <td>70.00</td>\n",
       "    </tr>\n",
       "    <tr>\n",
       "      <th>21</th>\n",
       "      <td>40736</td>\n",
       "      <td>920.171500</td>\n",
       "      <td>70.00</td>\n",
       "    </tr>\n",
       "    <tr>\n",
       "      <th>22</th>\n",
       "      <td>50109</td>\n",
       "      <td>1234.245460</td>\n",
       "      <td>70.00</td>\n",
       "    </tr>\n",
       "    <tr>\n",
       "      <th>23</th>\n",
       "      <td>32229</td>\n",
       "      <td>1404.882800</td>\n",
       "      <td>70.00</td>\n",
       "    </tr>\n",
       "    <tr>\n",
       "      <th>24</th>\n",
       "      <td>22344</td>\n",
       "      <td>401.995470</td>\n",
       "      <td>70.00</td>\n",
       "    </tr>\n",
       "    <tr>\n",
       "      <th>25</th>\n",
       "      <td>22820</td>\n",
       "      <td>690.347210</td>\n",
       "      <td>70.00</td>\n",
       "    </tr>\n",
       "    <tr>\n",
       "      <th>26</th>\n",
       "      <td>18004</td>\n",
       "      <td>335.754400</td>\n",
       "      <td>70.00</td>\n",
       "    </tr>\n",
       "    <tr>\n",
       "      <th>27</th>\n",
       "      <td>36842</td>\n",
       "      <td>720.974950</td>\n",
       "      <td>70.00</td>\n",
       "    </tr>\n",
       "    <tr>\n",
       "      <th>28</th>\n",
       "      <td>21042</td>\n",
       "      <td>887.357500</td>\n",
       "      <td>70.00</td>\n",
       "    </tr>\n",
       "    <tr>\n",
       "      <th>29</th>\n",
       "      <td>25074</td>\n",
       "      <td>1343.644700</td>\n",
       "      <td>70.00</td>\n",
       "    </tr>\n",
       "    <tr>\n",
       "      <th>...</th>\n",
       "      <td>...</td>\n",
       "      <td>...</td>\n",
       "      <td>...</td>\n",
       "    </tr>\n",
       "    <tr>\n",
       "      <th>10470</th>\n",
       "      <td>20534</td>\n",
       "      <td>539.723299</td>\n",
       "      <td>0.03</td>\n",
       "    </tr>\n",
       "    <tr>\n",
       "      <th>10471</th>\n",
       "      <td>5017</td>\n",
       "      <td>367.379946</td>\n",
       "      <td>0.03</td>\n",
       "    </tr>\n",
       "    <tr>\n",
       "      <th>10472</th>\n",
       "      <td>39271</td>\n",
       "      <td>404.007445</td>\n",
       "      <td>0.03</td>\n",
       "    </tr>\n",
       "    <tr>\n",
       "      <th>10473</th>\n",
       "      <td>14574</td>\n",
       "      <td>75.393930</td>\n",
       "      <td>0.03</td>\n",
       "    </tr>\n",
       "    <tr>\n",
       "      <th>10474</th>\n",
       "      <td>6559</td>\n",
       "      <td>443.325268</td>\n",
       "      <td>0.03</td>\n",
       "    </tr>\n",
       "    <tr>\n",
       "      <th>10475</th>\n",
       "      <td>61537</td>\n",
       "      <td>663.352481</td>\n",
       "      <td>0.03</td>\n",
       "    </tr>\n",
       "    <tr>\n",
       "      <th>10476</th>\n",
       "      <td>4687</td>\n",
       "      <td>330.632826</td>\n",
       "      <td>0.03</td>\n",
       "    </tr>\n",
       "    <tr>\n",
       "      <th>10477</th>\n",
       "      <td>3500</td>\n",
       "      <td>114.483147</td>\n",
       "      <td>0.03</td>\n",
       "    </tr>\n",
       "    <tr>\n",
       "      <th>10478</th>\n",
       "      <td>5051</td>\n",
       "      <td>687.321371</td>\n",
       "      <td>0.03</td>\n",
       "    </tr>\n",
       "    <tr>\n",
       "      <th>10479</th>\n",
       "      <td>22749</td>\n",
       "      <td>182.830308</td>\n",
       "      <td>0.03</td>\n",
       "    </tr>\n",
       "    <tr>\n",
       "      <th>10480</th>\n",
       "      <td>35300</td>\n",
       "      <td>623.588245</td>\n",
       "      <td>0.03</td>\n",
       "    </tr>\n",
       "    <tr>\n",
       "      <th>10481</th>\n",
       "      <td>2568</td>\n",
       "      <td>696.310465</td>\n",
       "      <td>0.03</td>\n",
       "    </tr>\n",
       "    <tr>\n",
       "      <th>10482</th>\n",
       "      <td>24695</td>\n",
       "      <td>251.743281</td>\n",
       "      <td>0.03</td>\n",
       "    </tr>\n",
       "    <tr>\n",
       "      <th>10483</th>\n",
       "      <td>48609</td>\n",
       "      <td>1094.705409</td>\n",
       "      <td>0.03</td>\n",
       "    </tr>\n",
       "    <tr>\n",
       "      <th>10484</th>\n",
       "      <td>18252</td>\n",
       "      <td>351.665523</td>\n",
       "      <td>0.03</td>\n",
       "    </tr>\n",
       "    <tr>\n",
       "      <th>10485</th>\n",
       "      <td>4891</td>\n",
       "      <td>346.279637</td>\n",
       "      <td>0.03</td>\n",
       "    </tr>\n",
       "    <tr>\n",
       "      <th>10486</th>\n",
       "      <td>40405</td>\n",
       "      <td>280.286698</td>\n",
       "      <td>0.03</td>\n",
       "    </tr>\n",
       "    <tr>\n",
       "      <th>10487</th>\n",
       "      <td>67754</td>\n",
       "      <td>986.171209</td>\n",
       "      <td>0.03</td>\n",
       "    </tr>\n",
       "    <tr>\n",
       "      <th>10488</th>\n",
       "      <td>8997</td>\n",
       "      <td>246.875642</td>\n",
       "      <td>0.03</td>\n",
       "    </tr>\n",
       "    <tr>\n",
       "      <th>10489</th>\n",
       "      <td>16320</td>\n",
       "      <td>194.232549</td>\n",
       "      <td>0.03</td>\n",
       "    </tr>\n",
       "    <tr>\n",
       "      <th>10490</th>\n",
       "      <td>4258</td>\n",
       "      <td>831.646740</td>\n",
       "      <td>0.03</td>\n",
       "    </tr>\n",
       "    <tr>\n",
       "      <th>10491</th>\n",
       "      <td>16262</td>\n",
       "      <td>231.000870</td>\n",
       "      <td>0.03</td>\n",
       "    </tr>\n",
       "    <tr>\n",
       "      <th>10492</th>\n",
       "      <td>14863</td>\n",
       "      <td>324.095786</td>\n",
       "      <td>0.03</td>\n",
       "    </tr>\n",
       "    <tr>\n",
       "      <th>10493</th>\n",
       "      <td>52283</td>\n",
       "      <td>705.416892</td>\n",
       "      <td>0.03</td>\n",
       "    </tr>\n",
       "    <tr>\n",
       "      <th>10494</th>\n",
       "      <td>50686</td>\n",
       "      <td>742.291374</td>\n",
       "      <td>0.03</td>\n",
       "    </tr>\n",
       "    <tr>\n",
       "      <th>10495</th>\n",
       "      <td>25856</td>\n",
       "      <td>208.941213</td>\n",
       "      <td>0.03</td>\n",
       "    </tr>\n",
       "    <tr>\n",
       "      <th>10496</th>\n",
       "      <td>61221</td>\n",
       "      <td>933.962394</td>\n",
       "      <td>0.03</td>\n",
       "    </tr>\n",
       "    <tr>\n",
       "      <th>10497</th>\n",
       "      <td>4532</td>\n",
       "      <td>931.313051</td>\n",
       "      <td>0.03</td>\n",
       "    </tr>\n",
       "    <tr>\n",
       "      <th>10498</th>\n",
       "      <td>6064</td>\n",
       "      <td>380.513150</td>\n",
       "      <td>0.03</td>\n",
       "    </tr>\n",
       "    <tr>\n",
       "      <th>10499</th>\n",
       "      <td>3343</td>\n",
       "      <td>406.193593</td>\n",
       "      <td>0.03</td>\n",
       "    </tr>\n",
       "  </tbody>\n",
       "</table>\n",
       "<p>10500 rows × 3 columns</p>\n",
       "</div>"
      ],
      "text/plain": [
       "       Flood damage (Milj. Euro)  Number of casualties  Costs\n",
       "0                          20392            821.924880  70.00\n",
       "1                          10182            370.869170  70.00\n",
       "2                          19627            512.941700  70.00\n",
       "3                           8806            149.819890  70.00\n",
       "4                          43822           1165.277450  70.00\n",
       "5                          33917           1258.973730  70.00\n",
       "6                          21155            674.091100  70.00\n",
       "7                          44453            805.183380  70.00\n",
       "8                          35930           1475.090400  70.00\n",
       "9                          18069            335.754400  70.00\n",
       "10                         10062            410.414200  70.00\n",
       "11                         19950            897.089800  70.00\n",
       "12                         30196            599.224910  70.00\n",
       "13                         12223            520.283000  70.00\n",
       "14                         28467            901.417000  70.00\n",
       "15                         14422            524.740360  70.00\n",
       "16                         28313            634.896450  70.00\n",
       "17                         31442            663.686940  70.00\n",
       "18                         14114            568.385400  70.00\n",
       "19                         21207            828.339270  70.00\n",
       "20                         30118            843.233550  70.00\n",
       "21                         40736            920.171500  70.00\n",
       "22                         50109           1234.245460  70.00\n",
       "23                         32229           1404.882800  70.00\n",
       "24                         22344            401.995470  70.00\n",
       "25                         22820            690.347210  70.00\n",
       "26                         18004            335.754400  70.00\n",
       "27                         36842            720.974950  70.00\n",
       "28                         21042            887.357500  70.00\n",
       "29                         25074           1343.644700  70.00\n",
       "...                          ...                   ...    ...\n",
       "10470                      20534            539.723299   0.03\n",
       "10471                       5017            367.379946   0.03\n",
       "10472                      39271            404.007445   0.03\n",
       "10473                      14574             75.393930   0.03\n",
       "10474                       6559            443.325268   0.03\n",
       "10475                      61537            663.352481   0.03\n",
       "10476                       4687            330.632826   0.03\n",
       "10477                       3500            114.483147   0.03\n",
       "10478                       5051            687.321371   0.03\n",
       "10479                      22749            182.830308   0.03\n",
       "10480                      35300            623.588245   0.03\n",
       "10481                       2568            696.310465   0.03\n",
       "10482                      24695            251.743281   0.03\n",
       "10483                      48609           1094.705409   0.03\n",
       "10484                      18252            351.665523   0.03\n",
       "10485                       4891            346.279637   0.03\n",
       "10486                      40405            280.286698   0.03\n",
       "10487                      67754            986.171209   0.03\n",
       "10488                       8997            246.875642   0.03\n",
       "10489                      16320            194.232549   0.03\n",
       "10490                       4258            831.646740   0.03\n",
       "10491                      16262            231.000870   0.03\n",
       "10492                      14863            324.095786   0.03\n",
       "10493                      52283            705.416892   0.03\n",
       "10494                      50686            742.291374   0.03\n",
       "10495                      25856            208.941213   0.03\n",
       "10496                      61221            933.962394   0.03\n",
       "10497                       4532            931.313051   0.03\n",
       "10498                       6064            380.513150   0.03\n",
       "10499                       3343            406.193593   0.03\n",
       "\n",
       "[10500 rows x 3 columns]"
      ]
     },
     "execution_count": 5,
     "metadata": {},
     "output_type": "execute_result"
    }
   ],
   "source": [
    "df[[10,11,12]]"
   ]
  },
  {
   "cell_type": "code",
   "execution_count": 6,
   "metadata": {
    "collapsed": true,
    "scrolled": true
   },
   "outputs": [],
   "source": [
    "costs = np.array(df[[10,11,12]])"
   ]
  },
  {
   "cell_type": "code",
   "execution_count": 7,
   "metadata": {
    "collapsed": true
   },
   "outputs": [],
   "source": [
    "def is_pareto_efficient_dumb(costs):\n",
    "    \"\"\"\n",
    "    :param costs: An (n_points, n_costs) array\n",
    "    :return: A (n_points, ) boolean array, indicating whether each point is Pareto efficient\n",
    "    \"\"\"\n",
    "    is_efficient = np.ones(costs.shape[0], dtype = bool)\n",
    "    for i, c in enumerate(costs):\n",
    "        is_efficient[i] = np.all(np.any(costs>=c, axis=1))\n",
    "    return is_efficient"
   ]
  },
  {
   "cell_type": "code",
   "execution_count": 8,
   "metadata": {
    "collapsed": true
   },
   "outputs": [],
   "source": [
    "a = is_pareto_efficient_dumb(costs)"
   ]
  },
  {
   "cell_type": "code",
   "execution_count": 12,
   "metadata": {},
   "outputs": [
    {
     "data": {
      "text/plain": [
       "1345"
      ]
     },
     "execution_count": 12,
     "metadata": {},
     "output_type": "execute_result"
    }
   ],
   "source": [
    "sum(a)"
   ]
  },
  {
   "cell_type": "markdown",
   "metadata": {},
   "source": [
    "These policies are non-dominated:"
   ]
  },
  {
   "cell_type": "code",
   "execution_count": 15,
   "metadata": {
    "scrolled": true
   },
   "outputs": [
    {
     "data": {
      "text/html": [
       "<div>\n",
       "<table border=\"1\" class=\"dataframe\">\n",
       "  <thead>\n",
       "    <tr style=\"text-align: right;\">\n",
       "      <th></th>\n",
       "      <th>DamFunctTbl_multiplier</th>\n",
       "      <th>ShipTbl1</th>\n",
       "      <th>ShipTbl2</th>\n",
       "      <th>ShipTbl3</th>\n",
       "      <th>climate scenarios</th>\n",
       "      <th>collaboration</th>\n",
       "      <th>fragility dikes</th>\n",
       "      <th>land use scenarios</th>\n",
       "      <th>model</th>\n",
       "      <th>policy</th>\n",
       "      <th>Flood damage (Milj. Euro)</th>\n",
       "      <th>Number of casualties</th>\n",
       "      <th>Costs</th>\n",
       "    </tr>\n",
       "  </thead>\n",
       "  <tbody>\n",
       "    <tr>\n",
       "      <th>2030</th>\n",
       "      <td>-0.064476</td>\n",
       "      <td>-0.059685</td>\n",
       "      <td>0.091571</td>\n",
       "      <td>0.028276</td>\n",
       "      <td>4</td>\n",
       "      <td>1.491980</td>\n",
       "      <td>0.006107</td>\n",
       "      <td>moreNature</td>\n",
       "      <td>waasmodel</td>\n",
       "      <td>Dike 1:500 +0.5m</td>\n",
       "      <td>1224</td>\n",
       "      <td>148.800</td>\n",
       "      <td>48.514472</td>\n",
       "    </tr>\n",
       "    <tr>\n",
       "      <th>2112</th>\n",
       "      <td>-0.020273</td>\n",
       "      <td>-0.085454</td>\n",
       "      <td>-0.078700</td>\n",
       "      <td>0.060708</td>\n",
       "      <td>10</td>\n",
       "      <td>1.191964</td>\n",
       "      <td>0.047635</td>\n",
       "      <td>NoChange</td>\n",
       "      <td>waasmodel</td>\n",
       "      <td>Dike 1:500 +0.5m</td>\n",
       "      <td>2674</td>\n",
       "      <td>18.497</td>\n",
       "      <td>81.564202</td>\n",
       "    </tr>\n",
       "    <tr>\n",
       "      <th>2139</th>\n",
       "      <td>-0.009048</td>\n",
       "      <td>0.021641</td>\n",
       "      <td>0.034322</td>\n",
       "      <td>0.073412</td>\n",
       "      <td>10</td>\n",
       "      <td>1.093079</td>\n",
       "      <td>0.015228</td>\n",
       "      <td>urbanizationLargeSteady</td>\n",
       "      <td>waasmodel</td>\n",
       "      <td>Dike 1:500 +0.5m</td>\n",
       "      <td>6203</td>\n",
       "      <td>48.417</td>\n",
       "      <td>81.564202</td>\n",
       "    </tr>\n",
       "    <tr>\n",
       "      <th>2149</th>\n",
       "      <td>0.005080</td>\n",
       "      <td>0.067741</td>\n",
       "      <td>0.047100</td>\n",
       "      <td>0.030813</td>\n",
       "      <td>10</td>\n",
       "      <td>1.276566</td>\n",
       "      <td>0.042583</td>\n",
       "      <td>urbanizationDeurbanization</td>\n",
       "      <td>waasmodel</td>\n",
       "      <td>Dike 1:500 +0.5m</td>\n",
       "      <td>4424</td>\n",
       "      <td>33.297</td>\n",
       "      <td>81.564202</td>\n",
       "    </tr>\n",
       "    <tr>\n",
       "      <th>2153</th>\n",
       "      <td>0.067854</td>\n",
       "      <td>0.084051</td>\n",
       "      <td>-0.030168</td>\n",
       "      <td>0.076229</td>\n",
       "      <td>10</td>\n",
       "      <td>1.483488</td>\n",
       "      <td>-0.030399</td>\n",
       "      <td>Deurbanization</td>\n",
       "      <td>waasmodel</td>\n",
       "      <td>Dike 1:500 +0.5m</td>\n",
       "      <td>2151</td>\n",
       "      <td>30.737</td>\n",
       "      <td>81.564202</td>\n",
       "    </tr>\n",
       "  </tbody>\n",
       "</table>\n",
       "</div>"
      ],
      "text/plain": [
       "      DamFunctTbl_multiplier  ShipTbl1  ShipTbl2  ShipTbl3  climate scenarios  \\\n",
       "2030               -0.064476 -0.059685  0.091571  0.028276                  4   \n",
       "2112               -0.020273 -0.085454 -0.078700  0.060708                 10   \n",
       "2139               -0.009048  0.021641  0.034322  0.073412                 10   \n",
       "2149                0.005080  0.067741  0.047100  0.030813                 10   \n",
       "2153                0.067854  0.084051 -0.030168  0.076229                 10   \n",
       "\n",
       "      collaboration  fragility dikes          land use scenarios      model  \\\n",
       "2030       1.491980         0.006107                  moreNature  waasmodel   \n",
       "2112       1.191964         0.047635                    NoChange  waasmodel   \n",
       "2139       1.093079         0.015228     urbanizationLargeSteady  waasmodel   \n",
       "2149       1.276566         0.042583  urbanizationDeurbanization  waasmodel   \n",
       "2153       1.483488        -0.030399              Deurbanization  waasmodel   \n",
       "\n",
       "                policy  Flood damage (Milj. Euro)  Number of casualties  \\\n",
       "2030  Dike 1:500 +0.5m                       1224               148.800   \n",
       "2112  Dike 1:500 +0.5m                       2674                18.497   \n",
       "2139  Dike 1:500 +0.5m                       6203                48.417   \n",
       "2149  Dike 1:500 +0.5m                       4424                33.297   \n",
       "2153  Dike 1:500 +0.5m                       2151                30.737   \n",
       "\n",
       "          Costs  \n",
       "2030  48.514472  \n",
       "2112  81.564202  \n",
       "2139  81.564202  \n",
       "2149  81.564202  \n",
       "2153  81.564202  "
      ]
     },
     "execution_count": 15,
     "metadata": {},
     "output_type": "execute_result"
    }
   ],
   "source": [
    "df[a].head()"
   ]
  },
  {
   "cell_type": "markdown",
   "metadata": {},
   "source": [
    "## plot policies and scenarios"
   ]
  },
  {
   "cell_type": "code",
   "execution_count": 26,
   "metadata": {
    "collapsed": true
   },
   "outputs": [],
   "source": [
    "import seaborn as sns\n"
   ]
  },
  {
   "cell_type": "code",
   "execution_count": 23,
   "metadata": {},
   "outputs": [],
   "source": [
    "df3 = df[a][['policy','climate scenarios']]"
   ]
  },
  {
   "cell_type": "code",
   "execution_count": 29,
   "metadata": {},
   "outputs": [
    {
     "data": {
      "text/plain": [
       "<matplotlib.axes._subplots.AxesSubplot at 0x1109150>"
      ]
     },
     "execution_count": 29,
     "metadata": {},
     "output_type": "execute_result"
    }
   ],
   "source": [
    "sns.stripplot(y='policy',x='climate scenarios',data=df3)\n",
    "\n",
    "plt.show()"
   ]
  },
  {
   "cell_type": "markdown",
   "metadata": {},
   "source": [
    "## find non-dominated for all scenarios "
   ]
  },
  {
   "cell_type": "code",
   "execution_count": 16,
   "metadata": {
    "scrolled": true
   },
   "outputs": [
    {
     "name": "stdout",
     "output_type": "stream",
     "text": [
      "Dike 1:500 +0.5m\n",
      "Dike 1:500 extr.\n",
      "Dike 1:1000\n",
      "Dike 1:1000 extr.\n",
      "Dike 2nd Q x 1.5\n",
      "Coop Small\n",
      "Alarm Early\n",
      "no policy\n",
      "Alarm Education\n"
     ]
    }
   ],
   "source": [
    "for x in df[a]['policy'].unique():\n",
    "    print(x)"
   ]
  },
  {
   "cell_type": "code",
   "execution_count": 17,
   "metadata": {},
   "outputs": [
    {
     "data": {
      "text/plain": [
       "array([ 1,  2,  3,  4,  5,  6,  7,  8,  9, 10, 11, 12, 13, 14, 15, 16, 17,\n",
       "       18, 19, 20, 21, 22, 23, 24, 25, 26, 27, 28, 29], dtype=int64)"
      ]
     },
     "execution_count": 17,
     "metadata": {},
     "output_type": "execute_result"
    }
   ],
   "source": [
    "b = df[a]['climate scenarios'].unique()\n",
    "b.sort()\n",
    "b"
   ]
  },
  {
   "cell_type": "code",
   "execution_count": 42,
   "metadata": {},
   "outputs": [
    {
     "name": "stdout",
     "output_type": "stream",
     "text": [
      "0\n",
      "2\n",
      "5\n",
      "9\n",
      "12\n",
      "15\n",
      "18\n",
      "19\n",
      "22\n",
      "25\n",
      "28\n",
      "29\n",
      "30\n"
     ]
    }
   ],
   "source": [
    "for i in range (31):\n",
    "    if i not in b:\n",
    "        print(i)"
   ]
  },
  {
   "cell_type": "code",
   "execution_count": 62,
   "metadata": {
    "collapsed": true
   },
   "outputs": [],
   "source": [
    "costs = np.array(df[[11,12]])"
   ]
  },
  {
   "cell_type": "code",
   "execution_count": 63,
   "metadata": {
    "collapsed": true
   },
   "outputs": [],
   "source": [
    "a = is_pareto_efficient_dumb(costs)"
   ]
  },
  {
   "cell_type": "code",
   "execution_count": 80,
   "metadata": {
    "collapsed": true
   },
   "outputs": [],
   "source": [
    "b = []\n",
    "b.extend(df[a].index.values)"
   ]
  },
  {
   "cell_type": "markdown",
   "metadata": {},
   "source": [
    "# find all pareto solutions for each scenario"
   ]
  },
  {
   "cell_type": "code",
   "execution_count": 41,
   "metadata": {},
   "outputs": [
    {
     "data": {
      "text/plain": [
       "Index(['DamFunctTbl_multiplier', 'ShipTbl1', 'ShipTbl2', 'ShipTbl3',\n",
       "       'climate scenarios', 'collaboration', 'fragility dikes',\n",
       "       'land use scenarios', 'model', 'policy', 'Flood damage (Milj. Euro)',\n",
       "       'Number of casualties', 'Costs'],\n",
       "      dtype='object')"
      ]
     },
     "execution_count": 41,
     "metadata": {},
     "output_type": "execute_result"
    }
   ],
   "source": [
    "df.columns"
   ]
  },
  {
   "cell_type": "code",
   "execution_count": 47,
   "metadata": {},
   "outputs": [],
   "source": [
    "df['Costs_cum'] = df[['Costs','Flood damage (Milj. Euro)']].sum(axis=1)"
   ]
  },
  {
   "cell_type": "code",
   "execution_count": 53,
   "metadata": {},
   "outputs": [],
   "source": [
    "# df[[11,13]]"
   ]
  },
  {
   "cell_type": "code",
   "execution_count": 54,
   "metadata": {
    "collapsed": true
   },
   "outputs": [],
   "source": [
    "non_dominated_indexs = []\n",
    "for clim_scen in sorted(df['climate scenarios'].unique()):\n",
    "    scenario = df[df['climate scenarios'] == clim_scen]\n",
    "    objectives = np.array(scenario[[11,13]])\n",
    "    a = is_pareto_efficient_dumb(objectives)\n",
    "    non_dominated_indexs.extend(scenario[a].index.values)"
   ]
  },
  {
   "cell_type": "code",
   "execution_count": 55,
   "metadata": {
    "collapsed": true
   },
   "outputs": [],
   "source": [
    "df2 = df.ix[non_dominated_indexs]"
   ]
  },
  {
   "cell_type": "code",
   "execution_count": 56,
   "metadata": {
    "scrolled": true
   },
   "outputs": [
    {
     "data": {
      "text/plain": [
       "848"
      ]
     },
     "execution_count": 56,
     "metadata": {},
     "output_type": "execute_result"
    }
   ],
   "source": [
    "len(df2)"
   ]
  },
  {
   "cell_type": "code",
   "execution_count": 57,
   "metadata": {
    "collapsed": true
   },
   "outputs": [],
   "source": [
    "df3 = df2[['policy','climate scenarios']]"
   ]
  },
  {
   "cell_type": "code",
   "execution_count": 144,
   "metadata": {},
   "outputs": [
    {
     "data": {
      "image/png": "[encoded data removed]",
      "text/plain": [
       "<matplotlib.figure.Figure at 0xa5810d0>"
      ]
     },
     "metadata": {},
     "output_type": "display_data"
    }
   ],
   "source": [
    "# figure = plt.figure(figsize=(10,20))\n",
    "# sns.set_context(\"poster\")\n",
    "sns.set(font_scale=1.5, style=\"darkgrid\")\n",
    "\n",
    "# sns.despine()\n",
    "# sns.set_style({'grid.color': '.9'})\n",
    "sns.stripplot(y='policy',x='climate scenarios',data=df3,jitter = 0.2)\n",
    "sns.violinplot(y='policy',x='climate scenarios',data=df3, inner=None)\n",
    "plt.gcf().subplots_adjust(bottom=0.15, left=0.35)\n",
    "# plt.savefig(\"policies_for_scenarios_grey\",dpi = 400)\n",
    "plt.show()"
   ]
  },
  {
   "cell_type": "code",
   "execution_count": null,
   "metadata": {},
   "outputs": [],
   "source": []
  },
  {
   "cell_type": "code",
   "execution_count": null,
   "metadata": {
    "collapsed": true
   },
   "outputs": [],
   "source": []
  },
  {
   "cell_type": "code",
   "execution_count": null,
   "metadata": {
    "collapsed": true
   },
   "outputs": [],
   "source": []
  },
  {
   "cell_type": "code",
   "execution_count": null,
   "metadata": {
    "collapsed": true
   },
   "outputs": [],
   "source": []
  },
  {
   "cell_type": "code",
   "execution_count": null,
   "metadata": {
    "collapsed": true
   },
   "outputs": [],
   "source": []
  }
 ],
 "metadata": {
  "kernelspec": {
   "display_name": "Python 3",
   "language": "python",
   "name": "python3"
  },
  "language_info": {
   "codemirror_mode": {
    "name": "ipython",
    "version": 3
   },
   "file_extension": ".py",
   "mimetype": "text/x-python",
   "name": "python",
   "nbconvert_exporter": "python",
   "pygments_lexer": "ipython3",
   "version": "3.6.0"
  }
 },
 "nbformat": 4,
 "nbformat_minor": 2
}
